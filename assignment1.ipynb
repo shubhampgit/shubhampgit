{
 "cells": [
  {
   "cell_type": "raw",
   "id": "7c58d103",
   "metadata": {},
   "source": [
    "1. In the below elements which of them are values or an expression? eg:- values can be\n",
    "integer or string and expressions will be mathematical operators.\n",
    "Answer:-\n",
    "* -> Expression\n",
    "'hello' -> Value\n",
    "-87.8 -> Value\n",
    "- -> Expressions\n",
    "/ -> Expressions\n",
    "• -> Expressions\n",
    "6 -> Value"
   ]
  },
  {
   "cell_type": "raw",
   "id": "37f02c0e",
   "metadata": {},
   "source": [
    "2. What is the difference between string and variable?\n",
    "Answer:-\n",
    "Variable:- Variables are used to store data it may be string,interger or float etc.\n",
    "eg:- a = 10, f = 10.2, s = \"Test\"\n",
    "String:- String will hold only string value.\n",
    "eg:- str = \"This is Test String\""
   ]
  },
  {
   "cell_type": "raw",
   "id": "6b052ddd",
   "metadata": {},
   "source": [
    "3. Describe three different data types.\n",
    "Answer:-\n",
    "1. Integer\n",
    "2. String\n",
    "3. Float\n",
    "4. Boolean"
   ]
  },
  {
   "cell_type": "raw",
   "id": "85d60acb",
   "metadata": {},
   "source": [
    "4. What is an expression made up of? What do all expressions do?\n",
    "Answer:- \n",
    "An expression is a combination of values, variables, operators, and calls to functions. Expression is interpreted to produce some other value.\n",
    "Expressions help us in solving a problem. \n",
    "Math expressions are formed using the words of a problem."
   ]
  },
  {
   "cell_type": "raw",
   "id": "3f4bd824",
   "metadata": {},
   "source": [
    "5. This assignment statements, like spam = 10. What is the difference between an expression and a statement?\n",
    "Answer:-\n",
    "Expression is made up of values, containers, and mathematical operators (operands).\n",
    "Statement is just like a command that a python interpreter executes like print."
   ]
  },
  {
   "cell_type": "raw",
   "id": "ca95c50b",
   "metadata": {},
   "source": [
    "6. After running the following code, what does the variable bacon contain?\n",
    "bacon = 22\n",
    "bacon + 1\n",
    "Answer:-\n",
    "23"
   ]
  },
  {
   "cell_type": "raw",
   "id": "b05c2c70",
   "metadata": {},
   "source": [
    "7. What should the values of the following two terms be?\n",
    "'spam' + 'spamspam'\n",
    "Answer:-'spamspamspam'\n",
    "'spam' * 3\n",
    "Answer:-\n",
    "'spamspamspam'"
   ]
  },
  {
   "cell_type": "raw",
   "id": "d2384a96",
   "metadata": {},
   "source": [
    "8. Why is eggs a valid variable name while 100 is invalid?\n",
    "Answer:-\n",
    "Because, The variable name cannot begin with a number."
   ]
  },
  {
   "cell_type": "raw",
   "id": "137cce4f",
   "metadata": {},
   "source": [
    "9. What three functions can be used to get the integer, floating-point number, or string version of a value?\n",
    "Answer:- \n",
    "1. Interger Number - int()\n",
    "2. Floating point Number - float()\n",
    "3. String version - str()\n",
    "These function will return value passed to them."
   ]
  },
  {
   "cell_type": "raw",
   "id": "824eb11e",
   "metadata": {},
   "source": [
    "10. Why does this expression cause an error? How can you fix it?\n",
    "'I have eaten ' + 99 + ' burritos.'\n",
    "Answer:- \n",
    "This expression cause an error because 99 is an integer, and only strings can be concatenated to other strings with the + operator."
   ]
  }
 ],
 "metadata": {
  "kernelspec": {
   "display_name": "Python 3",
   "language": "python",
   "name": "python3"
  },
  "language_info": {
   "codemirror_mode": {
    "name": "ipython",
    "version": 3
   },
   "file_extension": ".py",
   "mimetype": "text/x-python",
   "name": "python",
   "nbconvert_exporter": "python",
   "pygments_lexer": "ipython3",
   "version": "3.9.7"
  }
 },
 "nbformat": 4,
 "nbformat_minor": 5
}
