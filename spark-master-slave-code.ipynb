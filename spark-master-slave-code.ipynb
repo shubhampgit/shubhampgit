{
 "cells": [
  {
   "cell_type": "code",
   "execution_count": 1,
   "metadata": {},
   "outputs": [
    {
     "name": "stdout",
     "output_type": "stream",
     "text": [
      "Requirement already satisfied: findspark in /root/anaconda3/lib/python3.8/site-packages (1.4.2)\n",
      "Note: you may need to restart the kernel to use updated packages.\n"
     ]
    }
   ],
   "source": [
    "pip install findspark"
   ]
  },
  {
   "cell_type": "code",
   "execution_count": 2,
   "metadata": {},
   "outputs": [],
   "source": [
    "import findspark\n",
    "findspark.init()"
   ]
  },
  {
   "cell_type": "code",
   "execution_count": 3,
   "metadata": {},
   "outputs": [],
   "source": [
    "import pyspark\n"
   ]
  },
  {
   "cell_type": "code",
   "execution_count": 1,
   "metadata": {},
   "outputs": [
    {
     "name": "stderr",
     "output_type": "stream",
     "text": [
      "22/01/28 11:57:08 WARN NativeCodeLoader: Unable to load native-hadoop library for your platform... using builtin-java classes where applicable\n",
      "Using Spark's default log4j profile: org/apache/spark/log4j-defaults.properties\n",
      "Setting default log level to \"WARN\".\n",
      "To adjust logging level use sc.setLogLevel(newLevel). For SparkR, use setLogLevel(newLevel).\n",
      "22/01/28 11:57:09 WARN Utils: Service 'SparkUI' could not bind on port 4040. Attempting port 4041.\n"
     ]
    }
   ],
   "source": [
    "from pyspark.sql import SparkSession\n",
    "from pyspark.ml import Pipeline\n",
    "spark=SparkSession.builder.master(\"spark://10.182.1.163:7077\").appName('sample-data').getOrCreate()"
   ]
  },
  {
   "cell_type": "code",
   "execution_count": 2,
   "metadata": {},
   "outputs": [
    {
     "data": {
      "text/html": [
       "\n",
       "            <div>\n",
       "                <p><b>SparkSession - in-memory</b></p>\n",
       "                \n",
       "        <div>\n",
       "            <p><b>SparkContext</b></p>\n",
       "\n",
       "            <p><a href=\"http://server-vm.blr1.cdac.in:4041\">Spark UI</a></p>\n",
       "\n",
       "            <dl>\n",
       "              <dt>Version</dt>\n",
       "                <dd><code>v3.1.2</code></dd>\n",
       "              <dt>Master</dt>\n",
       "                <dd><code>spark://10.182.1.163:7077</code></dd>\n",
       "              <dt>AppName</dt>\n",
       "                <dd><code>sample-data</code></dd>\n",
       "            </dl>\n",
       "        </div>\n",
       "        \n",
       "            </div>\n",
       "        "
      ],
      "text/plain": [
       "<pyspark.sql.session.SparkSession at 0x7f956358e250>"
      ]
     },
     "execution_count": 2,
     "metadata": {},
     "output_type": "execute_result"
    }
   ],
   "source": [
    "spark"
   ]
  },
  {
   "cell_type": "code",
   "execution_count": 3,
   "metadata": {},
   "outputs": [
    {
     "name": "stderr",
     "output_type": "stream",
     "text": [
      "                                                                                \r"
     ]
    },
    {
     "data": {
      "text/plain": [
       "DataFrame[domain_name: string, asn: int, ip: string, owner: string, country_code: string, malware: int, domain _length: int, n_letters: int, n_number: int, n_hypans: int, n_dots: int, entropy: double]"
      ]
     },
     "execution_count": 3,
     "metadata": {},
     "output_type": "execute_result"
    }
   ],
   "source": [
    "# dataframe\n",
    "df=spark.read.csv(\"/root/Downloads/Malicious_Domain_Name_Dataset_10000.csv\",header=True,inferSchema=True)\n",
    "df"
   ]
  },
  {
   "cell_type": "code",
   "execution_count": 4,
   "metadata": {},
   "outputs": [
    {
     "name": "stderr",
     "output_type": "stream",
     "text": [
      "                                                                                \r"
     ]
    },
    {
     "data": {
      "text/plain": [
       "10000"
      ]
     },
     "execution_count": 4,
     "metadata": {},
     "output_type": "execute_result"
    }
   ],
   "source": [
    "df.count()"
   ]
  },
  {
   "cell_type": "code",
   "execution_count": 5,
   "metadata": {},
   "outputs": [
    {
     "name": "stdout",
     "output_type": "stream",
     "text": [
      "root\n",
      " |-- domain_name: string (nullable = true)\n",
      " |-- asn: integer (nullable = true)\n",
      " |-- ip: string (nullable = true)\n",
      " |-- owner: string (nullable = true)\n",
      " |-- country_code: string (nullable = true)\n",
      " |-- malware: integer (nullable = true)\n",
      " |-- domain _length: integer (nullable = true)\n",
      " |-- n_letters: integer (nullable = true)\n",
      " |-- n_number: integer (nullable = true)\n",
      " |-- n_hypans: integer (nullable = true)\n",
      " |-- n_dots: integer (nullable = true)\n",
      " |-- entropy: double (nullable = true)\n",
      "\n"
     ]
    }
   ],
   "source": [
    "df.printSchema()"
   ]
  },
  {
   "cell_type": "code",
   "execution_count": 6,
   "metadata": {},
   "outputs": [
    {
     "name": "stderr",
     "output_type": "stream",
     "text": [
      "                                                                                \r"
     ]
    },
    {
     "data": {
      "text/html": [
       "<div>\n",
       "<style scoped>\n",
       "    .dataframe tbody tr th:only-of-type {\n",
       "        vertical-align: middle;\n",
       "    }\n",
       "\n",
       "    .dataframe tbody tr th {\n",
       "        vertical-align: top;\n",
       "    }\n",
       "\n",
       "    .dataframe thead th {\n",
       "        text-align: right;\n",
       "    }\n",
       "</style>\n",
       "<table border=\"1\" class=\"dataframe\">\n",
       "  <thead>\n",
       "    <tr style=\"text-align: right;\">\n",
       "      <th></th>\n",
       "      <th>domain_name</th>\n",
       "      <th>asn</th>\n",
       "      <th>ip</th>\n",
       "      <th>owner</th>\n",
       "      <th>country_code</th>\n",
       "      <th>malware</th>\n",
       "      <th>domain _length</th>\n",
       "      <th>n_letters</th>\n",
       "      <th>n_number</th>\n",
       "      <th>n_hypans</th>\n",
       "      <th>n_dots</th>\n",
       "      <th>entropy</th>\n",
       "    </tr>\n",
       "  </thead>\n",
       "  <tbody>\n",
       "    <tr>\n",
       "      <th>0</th>\n",
       "      <td>netflix.com</td>\n",
       "      <td>16509</td>\n",
       "      <td>52.49.120.6</td>\n",
       "      <td>AMAZON-02 - Amazon.com, Inc.</td>\n",
       "      <td>US</td>\n",
       "      <td>0</td>\n",
       "      <td>11</td>\n",
       "      <td>10</td>\n",
       "      <td>0</td>\n",
       "      <td>0</td>\n",
       "      <td>1</td>\n",
       "      <td>3.459432</td>\n",
       "    </tr>\n",
       "    <tr>\n",
       "      <th>1</th>\n",
       "      <td>push.prod.netflix.com</td>\n",
       "      <td>16509</td>\n",
       "      <td>35.167.71.134</td>\n",
       "      <td>AMAZON-02 - Amazon.com, Inc.</td>\n",
       "      <td>US</td>\n",
       "      <td>0</td>\n",
       "      <td>21</td>\n",
       "      <td>18</td>\n",
       "      <td>0</td>\n",
       "      <td>0</td>\n",
       "      <td>3</td>\n",
       "      <td>3.975418</td>\n",
       "    </tr>\n",
       "    <tr>\n",
       "      <th>2</th>\n",
       "      <td>api-global.netflix.com</td>\n",
       "      <td>16509</td>\n",
       "      <td>52.42.194.172</td>\n",
       "      <td>AMAZON-02 - Amazon.com, Inc.</td>\n",
       "      <td>US</td>\n",
       "      <td>0</td>\n",
       "      <td>22</td>\n",
       "      <td>19</td>\n",
       "      <td>0</td>\n",
       "      <td>1</td>\n",
       "      <td>2</td>\n",
       "      <td>3.879664</td>\n",
       "    </tr>\n",
       "    <tr>\n",
       "      <th>3</th>\n",
       "      <td>google.com</td>\n",
       "      <td>15169</td>\n",
       "      <td>74.125.68.138</td>\n",
       "      <td>GOOGLE - Google LLC</td>\n",
       "      <td>US</td>\n",
       "      <td>0</td>\n",
       "      <td>10</td>\n",
       "      <td>9</td>\n",
       "      <td>0</td>\n",
       "      <td>0</td>\n",
       "      <td>1</td>\n",
       "      <td>2.646439</td>\n",
       "    </tr>\n",
       "    <tr>\n",
       "      <th>4</th>\n",
       "      <td>ftl.netflix.com</td>\n",
       "      <td>40027</td>\n",
       "      <td>45.57.40.1</td>\n",
       "      <td>NETFLIX-ASN - Netflix Streaming Services Inc.</td>\n",
       "      <td>US</td>\n",
       "      <td>0</td>\n",
       "      <td>15</td>\n",
       "      <td>13</td>\n",
       "      <td>0</td>\n",
       "      <td>0</td>\n",
       "      <td>2</td>\n",
       "      <td>3.373557</td>\n",
       "    </tr>\n",
       "  </tbody>\n",
       "</table>\n",
       "</div>"
      ],
      "text/plain": [
       "              domain_name    asn             ip  \\\n",
       "0             netflix.com  16509    52.49.120.6   \n",
       "1   push.prod.netflix.com  16509  35.167.71.134   \n",
       "2  api-global.netflix.com  16509  52.42.194.172   \n",
       "3              google.com  15169  74.125.68.138   \n",
       "4         ftl.netflix.com  40027     45.57.40.1   \n",
       "\n",
       "                                           owner country_code  malware  \\\n",
       "0                   AMAZON-02 - Amazon.com, Inc.           US        0   \n",
       "1                   AMAZON-02 - Amazon.com, Inc.           US        0   \n",
       "2                   AMAZON-02 - Amazon.com, Inc.           US        0   \n",
       "3                            GOOGLE - Google LLC           US        0   \n",
       "4  NETFLIX-ASN - Netflix Streaming Services Inc.           US        0   \n",
       "\n",
       "   domain _length  n_letters  n_number  n_hypans  n_dots   entropy  \n",
       "0              11         10         0         0       1  3.459432  \n",
       "1              21         18         0         0       3  3.975418  \n",
       "2              22         19         0         1       2  3.879664  \n",
       "3              10          9         0         0       1  2.646439  \n",
       "4              15         13         0         0       2  3.373557  "
      ]
     },
     "execution_count": 6,
     "metadata": {},
     "output_type": "execute_result"
    }
   ],
   "source": [
    "df.limit(5).toPandas()"
   ]
  },
  {
   "cell_type": "code",
   "execution_count": 7,
   "metadata": {},
   "outputs": [
    {
     "name": "stderr",
     "output_type": "stream",
     "text": [
      "[Stage 6:=====================================================> (196 + 4) / 200]\r"
     ]
    },
    {
     "name": "stdout",
     "output_type": "stream",
     "text": [
      "+---------------------------+\n",
      "|count(DISTINCT domain_name)|\n",
      "+---------------------------+\n",
      "|                       9990|\n",
      "+---------------------------+\n",
      "\n"
     ]
    },
    {
     "name": "stderr",
     "output_type": "stream",
     "text": [
      "\r",
      "                                                                                \r"
     ]
    }
   ],
   "source": [
    "from pyspark.sql.functions import countDistinct\n",
    "df.select(countDistinct(df['domain_name'])).show()"
   ]
  },
  {
   "cell_type": "code",
   "execution_count": 8,
   "metadata": {},
   "outputs": [
    {
     "name": "stderr",
     "output_type": "stream",
     "text": [
      "[Stage 9:======================================================>(199 + 1) / 200]\r"
     ]
    },
    {
     "name": "stdout",
     "output_type": "stream",
     "text": [
      "+---------------------+\n",
      "|count(DISTINCT owner)|\n",
      "+---------------------+\n",
      "|                 1102|\n",
      "+---------------------+\n",
      "\n"
     ]
    },
    {
     "name": "stderr",
     "output_type": "stream",
     "text": [
      "\r",
      "                                                                                \r"
     ]
    }
   ],
   "source": [
    "df.select(countDistinct(df['owner'])).show()"
   ]
  },
  {
   "cell_type": "code",
   "execution_count": 9,
   "metadata": {},
   "outputs": [],
   "source": [
    "df=df.withColumnRenamed('malware','label')"
   ]
  },
  {
   "cell_type": "code",
   "execution_count": 10,
   "metadata": {},
   "outputs": [
    {
     "data": {
      "text/html": [
       "<div>\n",
       "<style scoped>\n",
       "    .dataframe tbody tr th:only-of-type {\n",
       "        vertical-align: middle;\n",
       "    }\n",
       "\n",
       "    .dataframe tbody tr th {\n",
       "        vertical-align: top;\n",
       "    }\n",
       "\n",
       "    .dataframe thead th {\n",
       "        text-align: right;\n",
       "    }\n",
       "</style>\n",
       "<table border=\"1\" class=\"dataframe\">\n",
       "  <thead>\n",
       "    <tr style=\"text-align: right;\">\n",
       "      <th></th>\n",
       "      <th>domain_name</th>\n",
       "      <th>asn</th>\n",
       "      <th>ip</th>\n",
       "      <th>owner</th>\n",
       "      <th>country_code</th>\n",
       "      <th>label</th>\n",
       "      <th>domain _length</th>\n",
       "      <th>n_letters</th>\n",
       "      <th>n_number</th>\n",
       "      <th>n_hypans</th>\n",
       "      <th>n_dots</th>\n",
       "      <th>entropy</th>\n",
       "    </tr>\n",
       "  </thead>\n",
       "  <tbody>\n",
       "    <tr>\n",
       "      <th>0</th>\n",
       "      <td>netflix.com</td>\n",
       "      <td>16509</td>\n",
       "      <td>52.49.120.6</td>\n",
       "      <td>AMAZON-02 - Amazon.com, Inc.</td>\n",
       "      <td>US</td>\n",
       "      <td>0</td>\n",
       "      <td>11</td>\n",
       "      <td>10</td>\n",
       "      <td>0</td>\n",
       "      <td>0</td>\n",
       "      <td>1</td>\n",
       "      <td>3.459432</td>\n",
       "    </tr>\n",
       "    <tr>\n",
       "      <th>1</th>\n",
       "      <td>push.prod.netflix.com</td>\n",
       "      <td>16509</td>\n",
       "      <td>35.167.71.134</td>\n",
       "      <td>AMAZON-02 - Amazon.com, Inc.</td>\n",
       "      <td>US</td>\n",
       "      <td>0</td>\n",
       "      <td>21</td>\n",
       "      <td>18</td>\n",
       "      <td>0</td>\n",
       "      <td>0</td>\n",
       "      <td>3</td>\n",
       "      <td>3.975418</td>\n",
       "    </tr>\n",
       "    <tr>\n",
       "      <th>2</th>\n",
       "      <td>api-global.netflix.com</td>\n",
       "      <td>16509</td>\n",
       "      <td>52.42.194.172</td>\n",
       "      <td>AMAZON-02 - Amazon.com, Inc.</td>\n",
       "      <td>US</td>\n",
       "      <td>0</td>\n",
       "      <td>22</td>\n",
       "      <td>19</td>\n",
       "      <td>0</td>\n",
       "      <td>1</td>\n",
       "      <td>2</td>\n",
       "      <td>3.879664</td>\n",
       "    </tr>\n",
       "    <tr>\n",
       "      <th>3</th>\n",
       "      <td>google.com</td>\n",
       "      <td>15169</td>\n",
       "      <td>74.125.68.138</td>\n",
       "      <td>GOOGLE - Google LLC</td>\n",
       "      <td>US</td>\n",
       "      <td>0</td>\n",
       "      <td>10</td>\n",
       "      <td>9</td>\n",
       "      <td>0</td>\n",
       "      <td>0</td>\n",
       "      <td>1</td>\n",
       "      <td>2.646439</td>\n",
       "    </tr>\n",
       "    <tr>\n",
       "      <th>4</th>\n",
       "      <td>ftl.netflix.com</td>\n",
       "      <td>40027</td>\n",
       "      <td>45.57.40.1</td>\n",
       "      <td>NETFLIX-ASN - Netflix Streaming Services Inc.</td>\n",
       "      <td>US</td>\n",
       "      <td>0</td>\n",
       "      <td>15</td>\n",
       "      <td>13</td>\n",
       "      <td>0</td>\n",
       "      <td>0</td>\n",
       "      <td>2</td>\n",
       "      <td>3.373557</td>\n",
       "    </tr>\n",
       "  </tbody>\n",
       "</table>\n",
       "</div>"
      ],
      "text/plain": [
       "              domain_name    asn             ip  \\\n",
       "0             netflix.com  16509    52.49.120.6   \n",
       "1   push.prod.netflix.com  16509  35.167.71.134   \n",
       "2  api-global.netflix.com  16509  52.42.194.172   \n",
       "3              google.com  15169  74.125.68.138   \n",
       "4         ftl.netflix.com  40027     45.57.40.1   \n",
       "\n",
       "                                           owner country_code  label  \\\n",
       "0                   AMAZON-02 - Amazon.com, Inc.           US      0   \n",
       "1                   AMAZON-02 - Amazon.com, Inc.           US      0   \n",
       "2                   AMAZON-02 - Amazon.com, Inc.           US      0   \n",
       "3                            GOOGLE - Google LLC           US      0   \n",
       "4  NETFLIX-ASN - Netflix Streaming Services Inc.           US      0   \n",
       "\n",
       "   domain _length  n_letters  n_number  n_hypans  n_dots   entropy  \n",
       "0              11         10         0         0       1  3.459432  \n",
       "1              21         18         0         0       3  3.975418  \n",
       "2              22         19         0         1       2  3.879664  \n",
       "3              10          9         0         0       1  2.646439  \n",
       "4              15         13         0         0       2  3.373557  "
      ]
     },
     "execution_count": 10,
     "metadata": {},
     "output_type": "execute_result"
    }
   ],
   "source": [
    "df.limit(5).toPandas()"
   ]
  },
  {
   "cell_type": "code",
   "execution_count": 11,
   "metadata": {},
   "outputs": [
    {
     "name": "stderr",
     "output_type": "stream",
     "text": [
      "                                                                                \r"
     ]
    },
    {
     "name": "stdout",
     "output_type": "stream",
     "text": [
      "+-----+-----+\n",
      "|label|count|\n",
      "+-----+-----+\n",
      "|    1| 5000|\n",
      "|    0| 5000|\n",
      "+-----+-----+\n",
      "\n"
     ]
    }
   ],
   "source": [
    "# checking for classes\n",
    "df.groupby('label').count().show()"
   ]
  },
  {
   "cell_type": "code",
   "execution_count": 12,
   "metadata": {},
   "outputs": [
    {
     "name": "stderr",
     "output_type": "stream",
     "text": [
      "22/01/28 11:58:25 WARN AccumulatorContext: Attempted to access garbage collected accumulator 714\n",
      "22/01/28 11:58:25 WARN AccumulatorContext: Attempted to access garbage collected accumulator 714\n",
      "22/01/28 11:58:25 WARN AccumulatorContext: Attempted to access garbage collected accumulator 715\n",
      "22/01/28 11:58:25 WARN AccumulatorContext: Attempted to access garbage collected accumulator 715\n",
      "22/01/28 11:58:25 WARN AccumulatorContext: Attempted to access garbage collected accumulator 716\n",
      "22/01/28 11:58:25 WARN AccumulatorContext: Attempted to access garbage collected accumulator 716\n",
      "22/01/28 11:58:25 WARN AccumulatorContext: Attempted to access garbage collected accumulator 717\n",
      "22/01/28 11:58:25 WARN AccumulatorContext: Attempted to access garbage collected accumulator 717\n",
      "22/01/28 11:58:25 WARN AccumulatorContext: Attempted to access garbage collected accumulator 718\n",
      "22/01/28 11:58:25 WARN AccumulatorContext: Attempted to access garbage collected accumulator 718\n",
      "22/01/28 11:58:25 WARN AccumulatorContext: Attempted to access garbage collected accumulator 719\n",
      "22/01/28 11:58:25 WARN AccumulatorContext: Attempted to access garbage collected accumulator 719\n",
      "22/01/28 11:58:25 WARN AccumulatorContext: Attempted to access garbage collected accumulator 720\n",
      "22/01/28 11:58:25 WARN AccumulatorContext: Attempted to access garbage collected accumulator 720\n"
     ]
    },
    {
     "data": {
      "text/plain": [
       "domain_name       0\n",
       "asn               0\n",
       "ip                0\n",
       "owner             0\n",
       "country_code      0\n",
       "label             0\n",
       "domain _length    0\n",
       "n_letters         0\n",
       "n_number          0\n",
       "n_hypans          0\n",
       "n_dots            0\n",
       "entropy           0\n",
       "dtype: int64"
      ]
     },
     "execution_count": 12,
     "metadata": {},
     "output_type": "execute_result"
    }
   ],
   "source": [
    "df.toPandas().isnull().sum()"
   ]
  },
  {
   "cell_type": "code",
   "execution_count": 13,
   "metadata": {},
   "outputs": [
    {
     "name": "stderr",
     "output_type": "stream",
     "text": [
      "\r",
      "[Stage 23:>                                                         (0 + 1) / 1]\r",
      "\r",
      "                                                                                \r"
     ]
    },
    {
     "data": {
      "text/html": [
       "<div>\n",
       "<style scoped>\n",
       "    .dataframe tbody tr th:only-of-type {\n",
       "        vertical-align: middle;\n",
       "    }\n",
       "\n",
       "    .dataframe tbody tr th {\n",
       "        vertical-align: top;\n",
       "    }\n",
       "\n",
       "    .dataframe thead th {\n",
       "        text-align: right;\n",
       "    }\n",
       "</style>\n",
       "<table border=\"1\" class=\"dataframe\">\n",
       "  <thead>\n",
       "    <tr style=\"text-align: right;\">\n",
       "      <th></th>\n",
       "      <th>asn</th>\n",
       "      <th>label</th>\n",
       "      <th>domain _length</th>\n",
       "      <th>n_letters</th>\n",
       "      <th>n_number</th>\n",
       "      <th>n_hypans</th>\n",
       "      <th>n_dots</th>\n",
       "      <th>entropy</th>\n",
       "    </tr>\n",
       "  </thead>\n",
       "  <tbody>\n",
       "    <tr>\n",
       "      <th>count</th>\n",
       "      <td>10000.000000</td>\n",
       "      <td>10000.000000</td>\n",
       "      <td>10000.000000</td>\n",
       "      <td>10000.00000</td>\n",
       "      <td>10000.000000</td>\n",
       "      <td>10000.000000</td>\n",
       "      <td>10000.000000</td>\n",
       "      <td>10000.000000</td>\n",
       "    </tr>\n",
       "    <tr>\n",
       "      <th>mean</th>\n",
       "      <td>41165.383800</td>\n",
       "      <td>0.500000</td>\n",
       "      <td>18.702300</td>\n",
       "      <td>15.92710</td>\n",
       "      <td>0.673400</td>\n",
       "      <td>0.245400</td>\n",
       "      <td>1.856300</td>\n",
       "      <td>3.430663</td>\n",
       "    </tr>\n",
       "    <tr>\n",
       "      <th>std</th>\n",
       "      <td>59746.806254</td>\n",
       "      <td>0.500025</td>\n",
       "      <td>7.985653</td>\n",
       "      <td>6.55775</td>\n",
       "      <td>1.871706</td>\n",
       "      <td>0.671136</td>\n",
       "      <td>0.882229</td>\n",
       "      <td>0.367327</td>\n",
       "    </tr>\n",
       "    <tr>\n",
       "      <th>min</th>\n",
       "      <td>2.000000</td>\n",
       "      <td>0.000000</td>\n",
       "      <td>4.000000</td>\n",
       "      <td>2.00000</td>\n",
       "      <td>0.000000</td>\n",
       "      <td>0.000000</td>\n",
       "      <td>1.000000</td>\n",
       "      <td>1.664498</td>\n",
       "    </tr>\n",
       "    <tr>\n",
       "      <th>25%</th>\n",
       "      <td>14618.000000</td>\n",
       "      <td>0.000000</td>\n",
       "      <td>13.000000</td>\n",
       "      <td>11.00000</td>\n",
       "      <td>0.000000</td>\n",
       "      <td>0.000000</td>\n",
       "      <td>1.000000</td>\n",
       "      <td>3.189898</td>\n",
       "    </tr>\n",
       "    <tr>\n",
       "      <th>50%</th>\n",
       "      <td>20473.000000</td>\n",
       "      <td>0.500000</td>\n",
       "      <td>17.000000</td>\n",
       "      <td>15.00000</td>\n",
       "      <td>0.000000</td>\n",
       "      <td>0.000000</td>\n",
       "      <td>2.000000</td>\n",
       "      <td>3.447402</td>\n",
       "    </tr>\n",
       "    <tr>\n",
       "      <th>75%</th>\n",
       "      <td>40034.000000</td>\n",
       "      <td>1.000000</td>\n",
       "      <td>22.000000</td>\n",
       "      <td>19.00000</td>\n",
       "      <td>0.000000</td>\n",
       "      <td>0.000000</td>\n",
       "      <td>2.000000</td>\n",
       "      <td>3.669350</td>\n",
       "    </tr>\n",
       "    <tr>\n",
       "      <th>max</th>\n",
       "      <td>396190.000000</td>\n",
       "      <td>1.000000</td>\n",
       "      <td>126.000000</td>\n",
       "      <td>94.00000</td>\n",
       "      <td>66.000000</td>\n",
       "      <td>9.000000</td>\n",
       "      <td>15.000000</td>\n",
       "      <td>4.821105</td>\n",
       "    </tr>\n",
       "  </tbody>\n",
       "</table>\n",
       "</div>"
      ],
      "text/plain": [
       "                 asn         label  domain _length    n_letters      n_number  \\\n",
       "count   10000.000000  10000.000000    10000.000000  10000.00000  10000.000000   \n",
       "mean    41165.383800      0.500000       18.702300     15.92710      0.673400   \n",
       "std     59746.806254      0.500025        7.985653      6.55775      1.871706   \n",
       "min         2.000000      0.000000        4.000000      2.00000      0.000000   \n",
       "25%     14618.000000      0.000000       13.000000     11.00000      0.000000   \n",
       "50%     20473.000000      0.500000       17.000000     15.00000      0.000000   \n",
       "75%     40034.000000      1.000000       22.000000     19.00000      0.000000   \n",
       "max    396190.000000      1.000000      126.000000     94.00000     66.000000   \n",
       "\n",
       "           n_hypans        n_dots       entropy  \n",
       "count  10000.000000  10000.000000  10000.000000  \n",
       "mean       0.245400      1.856300      3.430663  \n",
       "std        0.671136      0.882229      0.367327  \n",
       "min        0.000000      1.000000      1.664498  \n",
       "25%        0.000000      1.000000      3.189898  \n",
       "50%        0.000000      2.000000      3.447402  \n",
       "75%        0.000000      2.000000      3.669350  \n",
       "max        9.000000     15.000000      4.821105  "
      ]
     },
     "execution_count": 13,
     "metadata": {},
     "output_type": "execute_result"
    }
   ],
   "source": [
    "df.toPandas().describe()"
   ]
  },
  {
   "cell_type": "code",
   "execution_count": 14,
   "metadata": {},
   "outputs": [
    {
     "data": {
      "text/plain": [
       "['domain_name', 'ip', 'owner', 'country_code']"
      ]
     },
     "execution_count": 14,
     "metadata": {},
     "output_type": "execute_result"
    }
   ],
   "source": [
    "categorical_cols=[item[0] for item in df.dtypes if item[1].startswith('string')]\n",
    "categorical_cols"
   ]
  },
  {
   "cell_type": "code",
   "execution_count": 15,
   "metadata": {},
   "outputs": [
    {
     "data": {
      "text/plain": [
       "['asn',\n",
       " 'label',\n",
       " 'domain _length',\n",
       " 'n_letters',\n",
       " 'n_number',\n",
       " 'n_hypans',\n",
       " 'n_dots']"
      ]
     },
     "execution_count": 15,
     "metadata": {},
     "output_type": "execute_result"
    }
   ],
   "source": [
    "numerical_cols=[item[0] for item in df.dtypes if item[1].startswith('int')]\n",
    "numerical_cols"
   ]
  },
  {
   "cell_type": "code",
   "execution_count": 16,
   "metadata": {},
   "outputs": [
    {
     "data": {
      "text/html": [
       "<div>\n",
       "<style scoped>\n",
       "    .dataframe tbody tr th:only-of-type {\n",
       "        vertical-align: middle;\n",
       "    }\n",
       "\n",
       "    .dataframe tbody tr th {\n",
       "        vertical-align: top;\n",
       "    }\n",
       "\n",
       "    .dataframe thead th {\n",
       "        text-align: right;\n",
       "    }\n",
       "</style>\n",
       "<table border=\"1\" class=\"dataframe\">\n",
       "  <thead>\n",
       "    <tr style=\"text-align: right;\">\n",
       "      <th></th>\n",
       "      <th>asn</th>\n",
       "      <th>label</th>\n",
       "      <th>domain _length</th>\n",
       "      <th>n_letters</th>\n",
       "      <th>n_number</th>\n",
       "      <th>n_hypans</th>\n",
       "      <th>n_dots</th>\n",
       "    </tr>\n",
       "  </thead>\n",
       "  <tbody>\n",
       "    <tr>\n",
       "      <th>0</th>\n",
       "      <td>16509</td>\n",
       "      <td>0</td>\n",
       "      <td>11</td>\n",
       "      <td>10</td>\n",
       "      <td>0</td>\n",
       "      <td>0</td>\n",
       "      <td>1</td>\n",
       "    </tr>\n",
       "    <tr>\n",
       "      <th>1</th>\n",
       "      <td>16509</td>\n",
       "      <td>0</td>\n",
       "      <td>21</td>\n",
       "      <td>18</td>\n",
       "      <td>0</td>\n",
       "      <td>0</td>\n",
       "      <td>3</td>\n",
       "    </tr>\n",
       "    <tr>\n",
       "      <th>2</th>\n",
       "      <td>16509</td>\n",
       "      <td>0</td>\n",
       "      <td>22</td>\n",
       "      <td>19</td>\n",
       "      <td>0</td>\n",
       "      <td>1</td>\n",
       "      <td>2</td>\n",
       "    </tr>\n",
       "    <tr>\n",
       "      <th>3</th>\n",
       "      <td>15169</td>\n",
       "      <td>0</td>\n",
       "      <td>10</td>\n",
       "      <td>9</td>\n",
       "      <td>0</td>\n",
       "      <td>0</td>\n",
       "      <td>1</td>\n",
       "    </tr>\n",
       "    <tr>\n",
       "      <th>4</th>\n",
       "      <td>40027</td>\n",
       "      <td>0</td>\n",
       "      <td>15</td>\n",
       "      <td>13</td>\n",
       "      <td>0</td>\n",
       "      <td>0</td>\n",
       "      <td>2</td>\n",
       "    </tr>\n",
       "    <tr>\n",
       "      <th>...</th>\n",
       "      <td>...</td>\n",
       "      <td>...</td>\n",
       "      <td>...</td>\n",
       "      <td>...</td>\n",
       "      <td>...</td>\n",
       "      <td>...</td>\n",
       "      <td>...</td>\n",
       "    </tr>\n",
       "    <tr>\n",
       "      <th>9995</th>\n",
       "      <td>46606</td>\n",
       "      <td>1</td>\n",
       "      <td>23</td>\n",
       "      <td>22</td>\n",
       "      <td>0</td>\n",
       "      <td>0</td>\n",
       "      <td>1</td>\n",
       "    </tr>\n",
       "    <tr>\n",
       "      <th>9996</th>\n",
       "      <td>53831</td>\n",
       "      <td>1</td>\n",
       "      <td>16</td>\n",
       "      <td>15</td>\n",
       "      <td>0</td>\n",
       "      <td>0</td>\n",
       "      <td>1</td>\n",
       "    </tr>\n",
       "    <tr>\n",
       "      <th>9997</th>\n",
       "      <td>394695</td>\n",
       "      <td>1</td>\n",
       "      <td>14</td>\n",
       "      <td>12</td>\n",
       "      <td>0</td>\n",
       "      <td>0</td>\n",
       "      <td>2</td>\n",
       "    </tr>\n",
       "    <tr>\n",
       "      <th>9998</th>\n",
       "      <td>26496</td>\n",
       "      <td>1</td>\n",
       "      <td>13</td>\n",
       "      <td>12</td>\n",
       "      <td>0</td>\n",
       "      <td>0</td>\n",
       "      <td>1</td>\n",
       "    </tr>\n",
       "    <tr>\n",
       "      <th>9999</th>\n",
       "      <td>47583</td>\n",
       "      <td>1</td>\n",
       "      <td>13</td>\n",
       "      <td>11</td>\n",
       "      <td>0</td>\n",
       "      <td>0</td>\n",
       "      <td>2</td>\n",
       "    </tr>\n",
       "  </tbody>\n",
       "</table>\n",
       "<p>10000 rows × 7 columns</p>\n",
       "</div>"
      ],
      "text/plain": [
       "         asn  label  domain _length  n_letters  n_number  n_hypans  n_dots\n",
       "0      16509      0              11         10         0         0       1\n",
       "1      16509      0              21         18         0         0       3\n",
       "2      16509      0              22         19         0         1       2\n",
       "3      15169      0              10          9         0         0       1\n",
       "4      40027      0              15         13         0         0       2\n",
       "...      ...    ...             ...        ...       ...       ...     ...\n",
       "9995   46606      1              23         22         0         0       1\n",
       "9996   53831      1              16         15         0         0       1\n",
       "9997  394695      1              14         12         0         0       2\n",
       "9998   26496      1              13         12         0         0       1\n",
       "9999   47583      1              13         11         0         0       2\n",
       "\n",
       "[10000 rows x 7 columns]"
      ]
     },
     "execution_count": 16,
     "metadata": {},
     "output_type": "execute_result"
    }
   ],
   "source": [
    "numerical_data=df.select(numerical_cols).toPandas()\n",
    "numerical_data"
   ]
  },
  {
   "cell_type": "code",
   "execution_count": 17,
   "metadata": {},
   "outputs": [
    {
     "data": {
      "text/html": [
       "<div>\n",
       "<style scoped>\n",
       "    .dataframe tbody tr th:only-of-type {\n",
       "        vertical-align: middle;\n",
       "    }\n",
       "\n",
       "    .dataframe tbody tr th {\n",
       "        vertical-align: top;\n",
       "    }\n",
       "\n",
       "    .dataframe thead th {\n",
       "        text-align: right;\n",
       "    }\n",
       "</style>\n",
       "<table border=\"1\" class=\"dataframe\">\n",
       "  <thead>\n",
       "    <tr style=\"text-align: right;\">\n",
       "      <th></th>\n",
       "      <th>asn</th>\n",
       "      <th>label</th>\n",
       "      <th>domain _length</th>\n",
       "      <th>n_letters</th>\n",
       "      <th>n_number</th>\n",
       "      <th>n_hypans</th>\n",
       "      <th>n_dots</th>\n",
       "    </tr>\n",
       "  </thead>\n",
       "  <tbody>\n",
       "    <tr>\n",
       "      <th>asn</th>\n",
       "      <td>1.000000</td>\n",
       "      <td>0.313619</td>\n",
       "      <td>0.040611</td>\n",
       "      <td>0.008990</td>\n",
       "      <td>0.171192</td>\n",
       "      <td>-0.026530</td>\n",
       "      <td>-0.042217</td>\n",
       "    </tr>\n",
       "    <tr>\n",
       "      <th>label</th>\n",
       "      <td>0.313619</td>\n",
       "      <td>1.000000</td>\n",
       "      <td>-0.110867</td>\n",
       "      <td>-0.081297</td>\n",
       "      <td>0.026822</td>\n",
       "      <td>-0.146028</td>\n",
       "      <td>-0.345166</td>\n",
       "    </tr>\n",
       "    <tr>\n",
       "      <th>domain _length</th>\n",
       "      <td>0.040611</td>\n",
       "      <td>-0.110867</td>\n",
       "      <td>1.000000</td>\n",
       "      <td>0.957067</td>\n",
       "      <td>0.423308</td>\n",
       "      <td>0.510038</td>\n",
       "      <td>0.650882</td>\n",
       "    </tr>\n",
       "    <tr>\n",
       "      <th>n_letters</th>\n",
       "      <td>0.008990</td>\n",
       "      <td>-0.081297</td>\n",
       "      <td>0.957067</td>\n",
       "      <td>1.000000</td>\n",
       "      <td>0.169021</td>\n",
       "      <td>0.404751</td>\n",
       "      <td>0.562784</td>\n",
       "    </tr>\n",
       "    <tr>\n",
       "      <th>n_number</th>\n",
       "      <td>0.171192</td>\n",
       "      <td>0.026822</td>\n",
       "      <td>0.423308</td>\n",
       "      <td>0.169021</td>\n",
       "      <td>1.000000</td>\n",
       "      <td>0.278054</td>\n",
       "      <td>0.241818</td>\n",
       "    </tr>\n",
       "    <tr>\n",
       "      <th>n_hypans</th>\n",
       "      <td>-0.026530</td>\n",
       "      <td>-0.146028</td>\n",
       "      <td>0.510038</td>\n",
       "      <td>0.404751</td>\n",
       "      <td>0.278054</td>\n",
       "      <td>1.000000</td>\n",
       "      <td>0.256680</td>\n",
       "    </tr>\n",
       "    <tr>\n",
       "      <th>n_dots</th>\n",
       "      <td>-0.042217</td>\n",
       "      <td>-0.345166</td>\n",
       "      <td>0.650882</td>\n",
       "      <td>0.562784</td>\n",
       "      <td>0.241818</td>\n",
       "      <td>0.256680</td>\n",
       "      <td>1.000000</td>\n",
       "    </tr>\n",
       "  </tbody>\n",
       "</table>\n",
       "</div>"
      ],
      "text/plain": [
       "                     asn     label  domain _length  n_letters  n_number  \\\n",
       "asn             1.000000  0.313619        0.040611   0.008990  0.171192   \n",
       "label           0.313619  1.000000       -0.110867  -0.081297  0.026822   \n",
       "domain _length  0.040611 -0.110867        1.000000   0.957067  0.423308   \n",
       "n_letters       0.008990 -0.081297        0.957067   1.000000  0.169021   \n",
       "n_number        0.171192  0.026822        0.423308   0.169021  1.000000   \n",
       "n_hypans       -0.026530 -0.146028        0.510038   0.404751  0.278054   \n",
       "n_dots         -0.042217 -0.345166        0.650882   0.562784  0.241818   \n",
       "\n",
       "                n_hypans    n_dots  \n",
       "asn            -0.026530 -0.042217  \n",
       "label          -0.146028 -0.345166  \n",
       "domain _length  0.510038  0.650882  \n",
       "n_letters       0.404751  0.562784  \n",
       "n_number        0.278054  0.241818  \n",
       "n_hypans        1.000000  0.256680  \n",
       "n_dots          0.256680  1.000000  "
      ]
     },
     "execution_count": 17,
     "metadata": {},
     "output_type": "execute_result"
    }
   ],
   "source": [
    "numerical_data.corr()"
   ]
  },
  {
   "cell_type": "code",
   "execution_count": 18,
   "metadata": {},
   "outputs": [],
   "source": [
    "#removing domain_length col\n",
    "df=df.drop('domain _length')"
   ]
  },
  {
   "cell_type": "code",
   "execution_count": 19,
   "metadata": {},
   "outputs": [
    {
     "data": {
      "text/html": [
       "<div>\n",
       "<style scoped>\n",
       "    .dataframe tbody tr th:only-of-type {\n",
       "        vertical-align: middle;\n",
       "    }\n",
       "\n",
       "    .dataframe tbody tr th {\n",
       "        vertical-align: top;\n",
       "    }\n",
       "\n",
       "    .dataframe thead th {\n",
       "        text-align: right;\n",
       "    }\n",
       "</style>\n",
       "<table border=\"1\" class=\"dataframe\">\n",
       "  <thead>\n",
       "    <tr style=\"text-align: right;\">\n",
       "      <th></th>\n",
       "      <th>domain_name</th>\n",
       "      <th>asn</th>\n",
       "      <th>ip</th>\n",
       "      <th>owner</th>\n",
       "      <th>country_code</th>\n",
       "      <th>label</th>\n",
       "      <th>n_letters</th>\n",
       "      <th>n_number</th>\n",
       "      <th>n_hypans</th>\n",
       "      <th>n_dots</th>\n",
       "      <th>entropy</th>\n",
       "    </tr>\n",
       "  </thead>\n",
       "  <tbody>\n",
       "    <tr>\n",
       "      <th>0</th>\n",
       "      <td>netflix.com</td>\n",
       "      <td>16509</td>\n",
       "      <td>52.49.120.6</td>\n",
       "      <td>AMAZON-02 - Amazon.com, Inc.</td>\n",
       "      <td>US</td>\n",
       "      <td>0</td>\n",
       "      <td>10</td>\n",
       "      <td>0</td>\n",
       "      <td>0</td>\n",
       "      <td>1</td>\n",
       "      <td>3.459432</td>\n",
       "    </tr>\n",
       "    <tr>\n",
       "      <th>1</th>\n",
       "      <td>push.prod.netflix.com</td>\n",
       "      <td>16509</td>\n",
       "      <td>35.167.71.134</td>\n",
       "      <td>AMAZON-02 - Amazon.com, Inc.</td>\n",
       "      <td>US</td>\n",
       "      <td>0</td>\n",
       "      <td>18</td>\n",
       "      <td>0</td>\n",
       "      <td>0</td>\n",
       "      <td>3</td>\n",
       "      <td>3.975418</td>\n",
       "    </tr>\n",
       "    <tr>\n",
       "      <th>2</th>\n",
       "      <td>api-global.netflix.com</td>\n",
       "      <td>16509</td>\n",
       "      <td>52.42.194.172</td>\n",
       "      <td>AMAZON-02 - Amazon.com, Inc.</td>\n",
       "      <td>US</td>\n",
       "      <td>0</td>\n",
       "      <td>19</td>\n",
       "      <td>0</td>\n",
       "      <td>1</td>\n",
       "      <td>2</td>\n",
       "      <td>3.879664</td>\n",
       "    </tr>\n",
       "    <tr>\n",
       "      <th>3</th>\n",
       "      <td>google.com</td>\n",
       "      <td>15169</td>\n",
       "      <td>74.125.68.138</td>\n",
       "      <td>GOOGLE - Google LLC</td>\n",
       "      <td>US</td>\n",
       "      <td>0</td>\n",
       "      <td>9</td>\n",
       "      <td>0</td>\n",
       "      <td>0</td>\n",
       "      <td>1</td>\n",
       "      <td>2.646439</td>\n",
       "    </tr>\n",
       "    <tr>\n",
       "      <th>4</th>\n",
       "      <td>ftl.netflix.com</td>\n",
       "      <td>40027</td>\n",
       "      <td>45.57.40.1</td>\n",
       "      <td>NETFLIX-ASN - Netflix Streaming Services Inc.</td>\n",
       "      <td>US</td>\n",
       "      <td>0</td>\n",
       "      <td>13</td>\n",
       "      <td>0</td>\n",
       "      <td>0</td>\n",
       "      <td>2</td>\n",
       "      <td>3.373557</td>\n",
       "    </tr>\n",
       "    <tr>\n",
       "      <th>...</th>\n",
       "      <td>...</td>\n",
       "      <td>...</td>\n",
       "      <td>...</td>\n",
       "      <td>...</td>\n",
       "      <td>...</td>\n",
       "      <td>...</td>\n",
       "      <td>...</td>\n",
       "      <td>...</td>\n",
       "      <td>...</td>\n",
       "      <td>...</td>\n",
       "      <td>...</td>\n",
       "    </tr>\n",
       "    <tr>\n",
       "      <th>9995</th>\n",
       "      <td>californiaroaddream.com</td>\n",
       "      <td>46606</td>\n",
       "      <td>69.89.31.98</td>\n",
       "      <td>UNIFIEDLAYER-AS-1 - Unified Layer</td>\n",
       "      <td>US</td>\n",
       "      <td>1</td>\n",
       "      <td>22</td>\n",
       "      <td>0</td>\n",
       "      <td>0</td>\n",
       "      <td>1</td>\n",
       "      <td>3.414441</td>\n",
       "    </tr>\n",
       "    <tr>\n",
       "      <th>9996</th>\n",
       "      <td>callahanward.com</td>\n",
       "      <td>53831</td>\n",
       "      <td>198.185.159.144</td>\n",
       "      <td>SQUARESPACE - Squarespace, Inc.</td>\n",
       "      <td>US</td>\n",
       "      <td>1</td>\n",
       "      <td>15</td>\n",
       "      <td>0</td>\n",
       "      <td>0</td>\n",
       "      <td>1</td>\n",
       "      <td>3.250000</td>\n",
       "    </tr>\n",
       "    <tr>\n",
       "      <th>9997</th>\n",
       "      <td>callisto.co.in</td>\n",
       "      <td>394695</td>\n",
       "      <td>199.79.62.87</td>\n",
       "      <td>PUBLIC-DOMAIN-REGISTRY - PDR</td>\n",
       "      <td>US</td>\n",
       "      <td>1</td>\n",
       "      <td>12</td>\n",
       "      <td>0</td>\n",
       "      <td>0</td>\n",
       "      <td>2</td>\n",
       "      <td>3.093069</td>\n",
       "    </tr>\n",
       "    <tr>\n",
       "      <th>9998</th>\n",
       "      <td>caloaksgc.com</td>\n",
       "      <td>26496</td>\n",
       "      <td>184.168.131.241</td>\n",
       "      <td>AS-26496-GO-DADDY-COM-LLC - GoDaddy.com, LLC</td>\n",
       "      <td>US</td>\n",
       "      <td>1</td>\n",
       "      <td>12</td>\n",
       "      <td>0</td>\n",
       "      <td>0</td>\n",
       "      <td>1</td>\n",
       "      <td>3.026987</td>\n",
       "    </tr>\n",
       "    <tr>\n",
       "      <th>9999</th>\n",
       "      <td>calpra.com.co</td>\n",
       "      <td>47583</td>\n",
       "      <td>213.190.6.19</td>\n",
       "      <td>AS-HOSTINGER</td>\n",
       "      <td>LT</td>\n",
       "      <td>1</td>\n",
       "      <td>11</td>\n",
       "      <td>0</td>\n",
       "      <td>0</td>\n",
       "      <td>2</td>\n",
       "      <td>2.873141</td>\n",
       "    </tr>\n",
       "  </tbody>\n",
       "</table>\n",
       "<p>10000 rows × 11 columns</p>\n",
       "</div>"
      ],
      "text/plain": [
       "                  domain_name     asn               ip  \\\n",
       "0                 netflix.com   16509      52.49.120.6   \n",
       "1       push.prod.netflix.com   16509    35.167.71.134   \n",
       "2      api-global.netflix.com   16509    52.42.194.172   \n",
       "3                  google.com   15169    74.125.68.138   \n",
       "4             ftl.netflix.com   40027       45.57.40.1   \n",
       "...                       ...     ...              ...   \n",
       "9995  californiaroaddream.com   46606      69.89.31.98   \n",
       "9996         callahanward.com   53831  198.185.159.144   \n",
       "9997           callisto.co.in  394695     199.79.62.87   \n",
       "9998            caloaksgc.com   26496  184.168.131.241   \n",
       "9999            calpra.com.co   47583     213.190.6.19   \n",
       "\n",
       "                                              owner country_code  label  \\\n",
       "0                      AMAZON-02 - Amazon.com, Inc.           US      0   \n",
       "1                      AMAZON-02 - Amazon.com, Inc.           US      0   \n",
       "2                      AMAZON-02 - Amazon.com, Inc.           US      0   \n",
       "3                               GOOGLE - Google LLC           US      0   \n",
       "4     NETFLIX-ASN - Netflix Streaming Services Inc.           US      0   \n",
       "...                                             ...          ...    ...   \n",
       "9995              UNIFIEDLAYER-AS-1 - Unified Layer           US      1   \n",
       "9996                SQUARESPACE - Squarespace, Inc.           US      1   \n",
       "9997                   PUBLIC-DOMAIN-REGISTRY - PDR           US      1   \n",
       "9998   AS-26496-GO-DADDY-COM-LLC - GoDaddy.com, LLC           US      1   \n",
       "9999                                   AS-HOSTINGER           LT      1   \n",
       "\n",
       "      n_letters  n_number  n_hypans  n_dots   entropy  \n",
       "0            10         0         0       1  3.459432  \n",
       "1            18         0         0       3  3.975418  \n",
       "2            19         0         1       2  3.879664  \n",
       "3             9         0         0       1  2.646439  \n",
       "4            13         0         0       2  3.373557  \n",
       "...         ...       ...       ...     ...       ...  \n",
       "9995         22         0         0       1  3.414441  \n",
       "9996         15         0         0       1  3.250000  \n",
       "9997         12         0         0       2  3.093069  \n",
       "9998         12         0         0       1  3.026987  \n",
       "9999         11         0         0       2  2.873141  \n",
       "\n",
       "[10000 rows x 11 columns]"
      ]
     },
     "execution_count": 19,
     "metadata": {},
     "output_type": "execute_result"
    }
   ],
   "source": [
    "df.toPandas()"
   ]
  },
  {
   "cell_type": "code",
   "execution_count": 20,
   "metadata": {},
   "outputs": [
    {
     "data": {
      "text/plain": [
       "['asn', 'label', 'n_letters', 'n_number', 'n_hypans', 'n_dots']"
      ]
     },
     "execution_count": 20,
     "metadata": {},
     "output_type": "execute_result"
    }
   ],
   "source": [
    "new_numerical_cols=[item[0] for item in df.dtypes if item[1].startswith('int')]\n",
    "new_numerical_cols"
   ]
  },
  {
   "cell_type": "code",
   "execution_count": 21,
   "metadata": {},
   "outputs": [],
   "source": [
    "n_numerical_data=df.select(new_numerical_cols).toPandas()\n"
   ]
  },
  {
   "cell_type": "code",
   "execution_count": 22,
   "metadata": {},
   "outputs": [
    {
     "data": {
      "text/html": [
       "<div>\n",
       "<style scoped>\n",
       "    .dataframe tbody tr th:only-of-type {\n",
       "        vertical-align: middle;\n",
       "    }\n",
       "\n",
       "    .dataframe tbody tr th {\n",
       "        vertical-align: top;\n",
       "    }\n",
       "\n",
       "    .dataframe thead th {\n",
       "        text-align: right;\n",
       "    }\n",
       "</style>\n",
       "<table border=\"1\" class=\"dataframe\">\n",
       "  <thead>\n",
       "    <tr style=\"text-align: right;\">\n",
       "      <th></th>\n",
       "      <th>asn</th>\n",
       "      <th>label</th>\n",
       "      <th>n_letters</th>\n",
       "      <th>n_number</th>\n",
       "      <th>n_hypans</th>\n",
       "      <th>n_dots</th>\n",
       "    </tr>\n",
       "  </thead>\n",
       "  <tbody>\n",
       "    <tr>\n",
       "      <th>asn</th>\n",
       "      <td>1.000000</td>\n",
       "      <td>0.313619</td>\n",
       "      <td>0.008990</td>\n",
       "      <td>0.171192</td>\n",
       "      <td>-0.026530</td>\n",
       "      <td>-0.042217</td>\n",
       "    </tr>\n",
       "    <tr>\n",
       "      <th>label</th>\n",
       "      <td>0.313619</td>\n",
       "      <td>1.000000</td>\n",
       "      <td>-0.081297</td>\n",
       "      <td>0.026822</td>\n",
       "      <td>-0.146028</td>\n",
       "      <td>-0.345166</td>\n",
       "    </tr>\n",
       "    <tr>\n",
       "      <th>n_letters</th>\n",
       "      <td>0.008990</td>\n",
       "      <td>-0.081297</td>\n",
       "      <td>1.000000</td>\n",
       "      <td>0.169021</td>\n",
       "      <td>0.404751</td>\n",
       "      <td>0.562784</td>\n",
       "    </tr>\n",
       "    <tr>\n",
       "      <th>n_number</th>\n",
       "      <td>0.171192</td>\n",
       "      <td>0.026822</td>\n",
       "      <td>0.169021</td>\n",
       "      <td>1.000000</td>\n",
       "      <td>0.278054</td>\n",
       "      <td>0.241818</td>\n",
       "    </tr>\n",
       "    <tr>\n",
       "      <th>n_hypans</th>\n",
       "      <td>-0.026530</td>\n",
       "      <td>-0.146028</td>\n",
       "      <td>0.404751</td>\n",
       "      <td>0.278054</td>\n",
       "      <td>1.000000</td>\n",
       "      <td>0.256680</td>\n",
       "    </tr>\n",
       "    <tr>\n",
       "      <th>n_dots</th>\n",
       "      <td>-0.042217</td>\n",
       "      <td>-0.345166</td>\n",
       "      <td>0.562784</td>\n",
       "      <td>0.241818</td>\n",
       "      <td>0.256680</td>\n",
       "      <td>1.000000</td>\n",
       "    </tr>\n",
       "  </tbody>\n",
       "</table>\n",
       "</div>"
      ],
      "text/plain": [
       "                asn     label  n_letters  n_number  n_hypans    n_dots\n",
       "asn        1.000000  0.313619   0.008990  0.171192 -0.026530 -0.042217\n",
       "label      0.313619  1.000000  -0.081297  0.026822 -0.146028 -0.345166\n",
       "n_letters  0.008990 -0.081297   1.000000  0.169021  0.404751  0.562784\n",
       "n_number   0.171192  0.026822   0.169021  1.000000  0.278054  0.241818\n",
       "n_hypans  -0.026530 -0.146028   0.404751  0.278054  1.000000  0.256680\n",
       "n_dots    -0.042217 -0.345166   0.562784  0.241818  0.256680  1.000000"
      ]
     },
     "execution_count": 22,
     "metadata": {},
     "output_type": "execute_result"
    }
   ],
   "source": [
    "n_numerical_data.corr()"
   ]
  },
  {
   "cell_type": "code",
   "execution_count": 23,
   "metadata": {},
   "outputs": [],
   "source": [
    "from pyspark.ml.feature import StringIndexer,OneHotEncoder,VectorAssembler\n",
    "from pyspark.ml import Pipeline\n",
    "from pyspark.ml.classification import RandomForestClassifier"
   ]
  },
  {
   "cell_type": "code",
   "execution_count": 24,
   "metadata": {},
   "outputs": [],
   "source": [
    "#train_test_split\n",
    "train_data,test_data=df.randomSplit([0.8,0.2])"
   ]
  },
  {
   "cell_type": "code",
   "execution_count": 25,
   "metadata": {},
   "outputs": [
    {
     "name": "stderr",
     "output_type": "stream",
     "text": [
      "\r",
      "[Stage 27:>                                                         (0 + 1) / 1]\r",
      "\r",
      "                                                                                \r"
     ]
    },
    {
     "data": {
      "text/plain": [
       "7994"
      ]
     },
     "execution_count": 25,
     "metadata": {},
     "output_type": "execute_result"
    }
   ],
   "source": [
    "train_data.count()"
   ]
  },
  {
   "cell_type": "code",
   "execution_count": 26,
   "metadata": {},
   "outputs": [
    {
     "data": {
      "text/plain": [
       "2006"
      ]
     },
     "execution_count": 26,
     "metadata": {},
     "output_type": "execute_result"
    }
   ],
   "source": [
    "test_data.count()"
   ]
  },
  {
   "cell_type": "code",
   "execution_count": 27,
   "metadata": {},
   "outputs": [
    {
     "name": "stdout",
     "output_type": "stream",
     "text": [
      "+-----+-------------+-------------------+\n",
      "|label|cnt_per_group|perc_of_count_total|\n",
      "+-----+-------------+-------------------+\n",
      "|    1|         3975| 49.724793595196395|\n",
      "|    0|         4019| 50.275206404803605|\n",
      "+-----+-------------+-------------------+\n",
      "\n"
     ]
    }
   ],
   "source": [
    "# checking for classes\n",
    "import pyspark.sql.functions as F\n",
    "from pyspark.sql.types import *\n",
    "\n",
    "tot = train_data.count()\n",
    "\n",
    "tf=train_data.groupby('label').count().withColumnRenamed('count', 'cnt_per_group') \\\n",
    "  .withColumn('perc_of_count_total', (F.col('cnt_per_group') / tot) * 100 ).show()"
   ]
  },
  {
   "cell_type": "code",
   "execution_count": 28,
   "metadata": {},
   "outputs": [
    {
     "name": "stdout",
     "output_type": "stream",
     "text": [
      "+-----+-------------+-------------------+\n",
      "|label|cnt_per_group|perc_of_count_total|\n",
      "+-----+-------------+-------------------+\n",
      "|    1|         1025| 51.096709870388835|\n",
      "|    0|          981| 48.903290129611165|\n",
      "+-----+-------------+-------------------+\n",
      "\n"
     ]
    }
   ],
   "source": [
    "# checking for classes\n",
    "import pyspark.sql.functions as F\n",
    "from pyspark.sql.types import *\n",
    "\n",
    "tot1 = test_data.count()\n",
    "\n",
    "testf=test_data.groupby('label').count().withColumnRenamed('count', 'cnt_per_group') \\\n",
    "  .withColumn('perc_of_count_total', (F.col('cnt_per_group') / tot1) * 100 ).show()"
   ]
  },
  {
   "cell_type": "code",
   "execution_count": 29,
   "metadata": {},
   "outputs": [],
   "source": [
    "# define stage 1: transform the column feature_2 to numeric\n",
    "stage_1 = StringIndexer(inputCol= 'domain_name', outputCol= 'domain_name_index', handleInvalid = \"keep\")\n",
    "\n",
    "# define stage 2: transform the column feature_3 to numeric\n",
    "stage_2 = StringIndexer(inputCol= 'ip', outputCol= 'ip_index', handleInvalid = \"keep\")\n",
    "\n",
    "# define stage 2: transform the column feature_3 to numeric\n",
    "stage_3 = StringIndexer(inputCol= 'owner', outputCol= 'owner_index', handleInvalid = \"keep\")\n",
    "\n",
    "# define stage 2: transform the column feature_3 to numeric\n",
    "stage_4 = StringIndexer(inputCol= 'country_code', outputCol= 'country_code_index', handleInvalid = \"keep\")\n",
    "\n",
    "\n",
    "# define stage 5: one hot encode the numeric versions of feature 1,2,3 and 4 generated from stage 1,2,3 and stage 4\n",
    "stage_5 = OneHotEncoder(inputCols=[stage_1.getOutputCol(), stage_2.getOutputCol(),stage_3.getOutputCol(),stage_4.getOutputCol()], \n",
    "                                 outputCols= ['domain_name_encoded', 'ip_encoded','owner_encoded','country_code_encoded'])\n",
    "# define stage 4: create a vector of all the features required to train the logistic regression model \n",
    "stage_6 = VectorAssembler(inputCols=['domain_name_encoded', 'asn', 'ip_encoded', 'owner_encoded','country_code_encoded','n_letters','n_number','n_hypans','n_dots','entropy'],\n",
    "                          outputCol='features')\n",
    "# define stage 5: logistic regression model                          \n",
    "stage_7 = RandomForestClassifier(featuresCol='features',labelCol='label',numTrees=200)"
   ]
  },
  {
   "cell_type": "code",
   "execution_count": 30,
   "metadata": {},
   "outputs": [],
   "source": [
    "# setup the pipeline\n",
    "rf_classification_pipeline = Pipeline(stages= [stage_1, \n",
    "                                        stage_2, \n",
    "                                        stage_3, \n",
    "                                        stage_4, \n",
    "                                        stage_5,\n",
    "                                        stage_6,\n",
    "                                        stage_7])"
   ]
  },
  {
   "cell_type": "code",
   "execution_count": 31,
   "metadata": {},
   "outputs": [
    {
     "name": "stderr",
     "output_type": "stream",
     "text": [
      "22/01/28 11:59:05 WARN DAGScheduler: Broadcasting large task binary with size 1924.3 KiB\n",
      "22/01/28 11:59:06 WARN DAGScheduler: Broadcasting large task binary with size 1924.4 KiB\n",
      "22/01/28 11:59:07 WARN DAGScheduler: Broadcasting large task binary with size 1930.4 KiB\n",
      "22/01/28 11:59:08 WARN DAGScheduler: Broadcasting large task binary with size 2.4 MiB\n",
      "22/01/28 11:59:14 WARN DAGScheduler: Broadcasting large task binary with size 2.5 MiB\n",
      "22/01/28 11:59:19 WARN DAGScheduler: Broadcasting large task binary with size 2.6 MiB\n",
      "22/01/28 11:59:23 WARN DAGScheduler: Broadcasting large task binary with size 2.6 MiB\n",
      "22/01/28 11:59:29 WARN DAGScheduler: Broadcasting large task binary with size 2.7 MiB\n",
      "                                                                                \r"
     ]
    }
   ],
   "source": [
    "# training\n",
    "model = rf_classification_pipeline.fit(train_data)"
   ]
  },
  {
   "cell_type": "code",
   "execution_count": 32,
   "metadata": {},
   "outputs": [],
   "source": [
    "# Make predictions.\n",
    "predictions = model.transform(test_data)\n",
    "\n"
   ]
  },
  {
   "cell_type": "code",
   "execution_count": 36,
   "metadata": {},
   "outputs": [
    {
     "data": {
      "text/plain": [
       "[StringIndexerModel: uid=StringIndexer_fa7cab01cda3, handleInvalid=keep,\n",
       " StringIndexerModel: uid=StringIndexer_21eb0d4ce833, handleInvalid=keep,\n",
       " StringIndexerModel: uid=StringIndexer_0d22a2279281, handleInvalid=keep,\n",
       " StringIndexerModel: uid=StringIndexer_05b1c533d2dd, handleInvalid=keep,\n",
       " OneHotEncoderModel: uid=OneHotEncoder_0d5ff0ac767c, dropLast=true, handleInvalid=error, numInputCols=4, numOutputCols=4,\n",
       " VectorAssembler_ee7ea76dea00,\n",
       " RandomForestClassificationModel: uid=RandomForestClassifier_e80bf30a7802, numTrees=200, numClasses=2, numFeatures=14803]"
      ]
     },
     "execution_count": 36,
     "metadata": {},
     "output_type": "execute_result"
    }
   ],
   "source": [
    "model.stages #train data"
   ]
  },
  {
   "cell_type": "code",
   "execution_count": 37,
   "metadata": {},
   "outputs": [],
   "source": [
    "m_summary=model.stages[6].summary"
   ]
  },
  {
   "cell_type": "code",
   "execution_count": 39,
   "metadata": {},
   "outputs": [
    {
     "data": {
      "text/plain": [
       "<pyspark.ml.classification.BinaryRandomForestClassificationTrainingSummary at 0x7f955158d550>"
      ]
     },
     "execution_count": 39,
     "metadata": {},
     "output_type": "execute_result"
    },
    {
     "name": "stderr",
     "output_type": "stream",
     "text": [
      "22/02/09 11:36:47 WARN TransportChannelHandler: Exception in connection from /10.182.1.163:7077\n",
      "java.io.IOException: Connection timed out\n",
      "\tat sun.nio.ch.FileDispatcherImpl.read0(Native Method)\n",
      "\tat sun.nio.ch.SocketDispatcher.read(SocketDispatcher.java:39)\n",
      "\tat sun.nio.ch.IOUtil.readIntoNativeBuffer(IOUtil.java:223)\n",
      "\tat sun.nio.ch.IOUtil.read(IOUtil.java:192)\n",
      "\tat sun.nio.ch.SocketChannelImpl.read(SocketChannelImpl.java:379)\n",
      "\tat io.netty.buffer.PooledByteBuf.setBytes(PooledByteBuf.java:253)\n",
      "\tat io.netty.buffer.AbstractByteBuf.writeBytes(AbstractByteBuf.java:1133)\n",
      "\tat io.netty.channel.socket.nio.NioSocketChannel.doReadBytes(NioSocketChannel.java:350)\n",
      "\tat io.netty.channel.nio.AbstractNioByteChannel$NioByteUnsafe.read(AbstractNioByteChannel.java:148)\n",
      "\tat io.netty.channel.nio.NioEventLoop.processSelectedKey(NioEventLoop.java:714)\n",
      "\tat io.netty.channel.nio.NioEventLoop.processSelectedKeysOptimized(NioEventLoop.java:650)\n",
      "\tat io.netty.channel.nio.NioEventLoop.processSelectedKeys(NioEventLoop.java:576)\n",
      "\tat io.netty.channel.nio.NioEventLoop.run(NioEventLoop.java:493)\n",
      "\tat io.netty.util.concurrent.SingleThreadEventExecutor$4.run(SingleThreadEventExecutor.java:989)\n",
      "\tat io.netty.util.internal.ThreadExecutorMap$2.run(ThreadExecutorMap.java:74)\n",
      "\tat io.netty.util.concurrent.FastThreadLocalRunnable.run(FastThreadLocalRunnable.java:30)\n",
      "\tat java.lang.Thread.run(Thread.java:748)\n",
      "22/02/09 11:36:47 WARN StandaloneAppClient$ClientEndpoint: Could not connect to 10.182.1.163:7077: java.io.IOException: Connection timed out\n",
      "22/02/09 11:36:47 WARN StandaloneAppClient$ClientEndpoint: Could not connect to 10.182.1.163:7077: java.io.IOException: Connection timed out\n",
      "22/02/09 11:36:47 WARN StandaloneAppClient$ClientEndpoint: Connection to 10.182.1.163:7077 failed; waiting for master to reconnect...\n",
      "22/02/09 11:36:47 WARN StandaloneSchedulerBackend: Disconnected from Spark cluster! Waiting for reconnection...\n",
      "22/02/09 11:36:47 WARN StandaloneAppClient$ClientEndpoint: Connection to 10.182.1.163:7077 failed; waiting for master to reconnect...\n"
     ]
    }
   ],
   "source": [
    "m_summary"
   ]
  },
  {
   "cell_type": "code",
   "execution_count": null,
   "metadata": {},
   "outputs": [],
   "source": []
  },
  {
   "cell_type": "code",
   "execution_count": 38,
   "metadata": {},
   "outputs": [
    {
     "name": "stderr",
     "output_type": "stream",
     "text": [
      "22/01/28 12:01:34 WARN DAGScheduler: Broadcasting large task binary with size 2.5 MiB\n",
      "                                                                                \r"
     ]
    },
    {
     "data": {
      "text/plain": [
       "0.8660245183887916"
      ]
     },
     "execution_count": 38,
     "metadata": {},
     "output_type": "execute_result"
    }
   ],
   "source": [
    "m_summary.accuracy"
   ]
  },
  {
   "cell_type": "code",
   "execution_count": 46,
   "metadata": {},
   "outputs": [
    {
     "data": {
      "text/plain": [
       "[0.8732323232323232, 0.8675642594859241]"
      ]
     },
     "execution_count": 46,
     "metadata": {},
     "output_type": "execute_result"
    }
   ],
   "source": [
    "m_summary.precisionByLabel"
   ]
  },
  {
   "cell_type": "code",
   "execution_count": null,
   "metadata": {},
   "outputs": [],
   "source": [
    "p=tp/(tp+fp)"
   ]
  },
  {
   "cell_type": "code",
   "execution_count": null,
   "metadata": {},
   "outputs": [],
   "source": [
    "r=tp/(tp+fn)"
   ]
  },
  {
   "cell_type": "code",
   "execution_count": 47,
   "metadata": {},
   "outputs": [
    {
     "data": {
      "text/plain": [
       "[0.8647161790447612, 0.8759268413247652]"
      ]
     },
     "execution_count": 47,
     "metadata": {},
     "output_type": "execute_result"
    }
   ],
   "source": [
    "m_summary.recallByLabel            0.86= lable1 0.87=lable2"
   ]
  },
  {
   "cell_type": "code",
   "execution_count": 48,
   "metadata": {},
   "outputs": [
    {
     "data": {
      "text/plain": [
       "0.9328079980944322"
      ]
     },
     "execution_count": 48,
     "metadata": {},
     "output_type": "execute_result"
    }
   ],
   "source": [
    "#train data\n",
    "m_summary.areaUnderROC"
   ]
  },
  {
   "cell_type": "code",
   "execution_count": 49,
   "metadata": {},
   "outputs": [
    {
     "name": "stdout",
     "output_type": "stream",
     "text": [
      "+----------+-----+--------------------+\n",
      "|prediction|label|            features|\n",
      "+----------+-----+--------------------+\n",
      "|       1.0|    1|(14886,[8037,8038...|\n",
      "|       1.0|    1|(14886,[8037,1459...|\n",
      "|       1.0|    1|(14886,[8037,1396...|\n",
      "|       1.0|    1|(14886,[8037,1403...|\n",
      "|       1.0|    1|(14886,[8037,1395...|\n",
      "|       1.0|    1|(14886,[8037,8038...|\n",
      "|       1.0|    0|(14886,[8037,1425...|\n",
      "|       1.0|    1|(14886,[8037,8075...|\n",
      "|       1.0|    1|(14886,[8037,1396...|\n",
      "|       1.0|    1|(14886,[8037,8038...|\n",
      "|       0.0|    0|(14886,[8037,1382...|\n",
      "|       0.0|    1|(14886,[8037,1288...|\n",
      "|       0.0|    1|(14886,[8037,8045...|\n",
      "|       0.0|    0|(14886,[8037,1383...|\n",
      "|       0.0|    0|(14886,[8037,8226...|\n",
      "+----------+-----+--------------------+\n",
      "only showing top 15 rows\n",
      "\n"
     ]
    }
   ],
   "source": [
    "# Select example rows to display.\n",
    "predictions.select(\"prediction\", \"label\", \"features\").show(15)\n",
    "\n"
   ]
  },
  {
   "cell_type": "code",
   "execution_count": 50,
   "metadata": {},
   "outputs": [
    {
     "name": "stdout",
     "output_type": "stream",
     "text": [
      "+--------------------+----------+\n",
      "|         probability|prediction|\n",
      "+--------------------+----------+\n",
      "|[0.48148163280169...|       1.0|\n",
      "|[0.46266718518431...|       1.0|\n",
      "|[0.48139621854574...|       1.0|\n",
      "|[0.49396195246891...|       1.0|\n",
      "|[0.46139313638858...|       1.0|\n",
      "|[0.46969174605488...|       1.0|\n",
      "|[0.46849132102003...|       1.0|\n",
      "|[0.47846998779419...|       1.0|\n",
      "|[0.47817483936608...|       1.0|\n",
      "|[0.47344232841864...|       1.0|\n",
      "|[0.53827185775710...|       0.0|\n",
      "|[0.53176753523985...|       0.0|\n",
      "|[0.52057931647178...|       0.0|\n",
      "|[0.54827455093298...|       0.0|\n",
      "|[0.50316984514231...|       0.0|\n",
      "|[0.55366738998152...|       0.0|\n",
      "|[0.48481678800112...|       1.0|\n",
      "|[0.46387745508603...|       1.0|\n",
      "|[0.50233555146083...|       0.0|\n",
      "|[0.54739607706168...|       0.0|\n",
      "+--------------------+----------+\n",
      "only showing top 20 rows\n",
      "\n"
     ]
    }
   ],
   "source": [
    "# see the prediction on the test data\n",
    "predictions.select('probability', 'prediction').show()\n"
   ]
  },
  {
   "cell_type": "code",
   "execution_count": 51,
   "metadata": {},
   "outputs": [
    {
     "name": "stdout",
     "output_type": "stream",
     "text": [
      "StringIndexerModel: uid=StringIndexer_af1fa31802bf, handleInvalid=keep\n"
     ]
    }
   ],
   "source": [
    "#test data\n",
    "# Select (prediction, true label) and compute test error\n",
    "from pyspark.ml.evaluation import BinaryClassificationEvaluator\n",
    "\n",
    "evaluator = BinaryClassificationEvaluator(rawPredictionCol='prediction', labelCol='label', metricName='areaUnderROC')\n",
    "auc = evaluator.evaluate(predictions)\n",
    "\n",
    "rfModel = model.stages[2]\n",
    "print(rfModel)  # summary o"
   ]
  },
  {
   "cell_type": "code",
   "execution_count": 52,
   "metadata": {},
   "outputs": [
    {
     "name": "stdout",
     "output_type": "stream",
     "text": [
      "0.8732938968788024\n"
     ]
    }
   ],
   "source": [
    "print(str(auc))"
   ]
  },
  {
   "cell_type": "code",
   "execution_count": 53,
   "metadata": {},
   "outputs": [
    {
     "name": "stdout",
     "output_type": "stream",
     "text": [
      "0.8731631092095513\n"
     ]
    }
   ],
   "source": [
    "\n",
    "\n",
    "from pyspark.ml.evaluation import MulticlassClassificationEvaluator\n",
    "\n",
    "eval_f1 = MulticlassClassificationEvaluator(predictionCol='prediction', labelCol='label', metricName='f1')\n",
    "f1_score=eval_f1.evaluate(predictions)\n",
    "print(f1_score)"
   ]
  },
  {
   "cell_type": "code",
   "execution_count": 54,
   "metadata": {},
   "outputs": [
    {
     "name": "stdout",
     "output_type": "stream",
     "text": [
      "0.8731457800511508\n"
     ]
    }
   ],
   "source": [
    "\n",
    "from pyspark.ml.evaluation import MulticlassClassificationEvaluator\n",
    "\n",
    "eval_accu = MulticlassClassificationEvaluator(predictionCol='prediction', labelCol='label', metricName='accuracy')\n",
    "accuracy=eval_accu.evaluate(predictions)\n",
    "print(accuracy)"
   ]
  },
  {
   "cell_type": "markdown",
   "metadata": {},
   "source": [
    "#### Cross Validation with hyperparameter grid search"
   ]
  },
  {
   "cell_type": "code",
   "execution_count": 55,
   "metadata": {},
   "outputs": [],
   "source": [
    "from pyspark.ml.tuning import ParamGridBuilder\n",
    "import numpy as np\n",
    "\n",
    "paramGrid = ParamGridBuilder() \\\n",
    "    .addGrid(stage_7.numTrees, [int(x) for x in np.linspace(start = 10, stop = 100, num = 4)]) \\\n",
    "    .addGrid(stage_7.maxDepth, [int(x) for x in np.linspace(start = 5, stop = 25, num = 3)]) \\\n",
    "    .build()"
   ]
  },
  {
   "cell_type": "code",
   "execution_count": 56,
   "metadata": {},
   "outputs": [],
   "source": [
    "from pyspark.ml.tuning import CrossValidator\n",
    "from pyspark.ml.evaluation import BinaryClassificationEvaluator\n",
    "\n",
    "crossval = CrossValidator(estimator=rf_classification_pipeline,\n",
    "                          estimatorParamMaps=paramGrid,\n",
    "                          evaluator=BinaryClassificationEvaluator(),\n",
    "                          numFolds=5)"
   ]
  },
  {
   "cell_type": "code",
   "execution_count": null,
   "metadata": {},
   "outputs": [],
   "source": []
  },
  {
   "cell_type": "code",
   "execution_count": null,
   "metadata": {},
   "outputs": [],
   "source": []
  },
  {
   "cell_type": "code",
   "execution_count": null,
   "metadata": {},
   "outputs": [],
   "source": []
  },
  {
   "cell_type": "code",
   "execution_count": null,
   "metadata": {},
   "outputs": [],
   "source": []
  },
  {
   "cell_type": "code",
   "execution_count": null,
   "metadata": {},
   "outputs": [],
   "source": []
  },
  {
   "cell_type": "code",
   "execution_count": null,
   "metadata": {},
   "outputs": [],
   "source": []
  },
  {
   "cell_type": "code",
   "execution_count": 7,
   "metadata": {},
   "outputs": [],
   "source": [
    "spark.stop()"
   ]
  },
  {
   "cell_type": "code",
   "execution_count": null,
   "metadata": {},
   "outputs": [],
   "source": []
  }
 ],
 "metadata": {
  "kernelspec": {
   "display_name": "Python 3",
   "language": "python",
   "name": "python3"
  },
  "language_info": {
   "codemirror_mode": {
    "name": "ipython",
    "version": 3
   },
   "file_extension": ".py",
   "mimetype": "text/x-python",
   "name": "python",
   "nbconvert_exporter": "python",
   "pygments_lexer": "ipython3",
   "version": "3.9.7"
  }
 },
 "nbformat": 4,
 "nbformat_minor": 4
}
